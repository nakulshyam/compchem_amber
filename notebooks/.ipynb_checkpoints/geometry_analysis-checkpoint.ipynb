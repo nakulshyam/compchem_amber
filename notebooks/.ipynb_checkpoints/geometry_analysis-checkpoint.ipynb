{
 "cells": [
  {
   "cell_type": "code",
   "execution_count": 4,
   "metadata": {
    "scrolled": true
   },
   "outputs": [
    {
     "name": "stdout",
     "output_type": "stream",
     "text": [
      "3\n",
      "initial geometry\n",
      "O      0.538900     0.655660     0.000000\n",
      "H      1.508900     0.655660     0.000000\n",
      "H      0.215570     1.569690    -0.030130\n",
      "\n",
      "bond graph\n",
      "    1 O  - 2 3\n",
      "    2 H  - 1\n",
      "    3 H  - 1\n",
      "\n",
      "2 bond(s) found (Angstrom)\n",
      " 1-2              (O-H)            0.9700\n",
      " 1-3              (O-H)            0.9700\n",
      "\n"
     ]
    }
   ],
   "source": [
    "run ../scripts/geometry_analysis/bonds.py ../geom/xyz/h2o.xyz\n"
   ]
  },
  {
   "cell_type": "code",
   "execution_count": 5,
   "metadata": {
    "scrolled": true
   },
   "outputs": [
    {
     "name": "stdout",
     "output_type": "stream",
     "text": [
      "3\n",
      "initial geometry\n",
      "O      0.538900     0.655660     0.000000\n",
      "H      1.508900     0.655660     0.000000\n",
      "H      0.215570     1.569690    -0.030130\n",
      "\n",
      "2 bond(s) found (Angstrom)\n",
      " 1-2              (O-H)            0.9700\n",
      " 1-3              (O-H)            0.9700\n",
      "\n",
      "1 angle(s) found (degrees)\n",
      " 2-1-3            (H-O-H)         109.471\n",
      "\n"
     ]
    }
   ],
   "source": [
    "run ../scripts/geometry_analysis/angles.py ../geom/xyz/h2o.xyz"
   ]
  },
  {
   "cell_type": "code",
   "execution_count": 10,
   "metadata": {
    "scrolled": true
   },
   "outputs": [
    {
     "name": "stdout",
     "output_type": "stream",
     "text": [
      "4\n",
      "initial geometry\n",
      "O     -1.752880    -0.518770     1.332360\n",
      "O     -0.473700    -0.109130     0.777370\n",
      "H     -2.290180     0.167830     0.893290\n",
      "H      0.063600    -0.795730     1.216440\n",
      "\n",
      "3 bond(s) found (Angstrom)\n",
      " 1-2              (O-O)            1.4533\n",
      " 1-3              (O-H)            0.9762\n",
      " 2-4              (O-H)            0.9762\n",
      "\n",
      "2 angle(s) found (degrees)\n",
      " 2-1-3            (O-O-H)          96.572\n",
      " 1-2-4            (O-O-H)          96.572\n",
      "\n",
      "1 torsion(s) found (degrees)\n",
      " 3-1-2-4          (H-O-O-H)      -180.000\n",
      "\n"
     ]
    }
   ],
   "source": [
    "run ../scripts/geometry_analysis/torsions.py ../geom/xyz/hooh.xyz"
   ]
  },
  {
   "cell_type": "code",
   "execution_count": null,
   "metadata": {},
   "outputs": [],
   "source": []
  }
 ],
 "metadata": {
  "kernelspec": {
   "display_name": "Python 3",
   "language": "python",
   "name": "python3"
  },
  "language_info": {
   "codemirror_mode": {
    "name": "ipython",
    "version": 3
   },
   "file_extension": ".py",
   "mimetype": "text/x-python",
   "name": "python",
   "nbconvert_exporter": "python",
   "pygments_lexer": "ipython3",
   "version": "3.7.0"
  }
 },
 "nbformat": 4,
 "nbformat_minor": 2
}
